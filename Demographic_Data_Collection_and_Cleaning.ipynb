{
  "nbformat": 4,
  "nbformat_minor": 0,
  "metadata": {
    "colab": {
      "name": "Demographic Data Collection and Cleaning.ipynb",
      "provenance": [],
      "collapsed_sections": [
        "GoM7jKHPZK6T",
        "OoiJJrlC65wT",
        "9oDd98yiNIMw",
        "QPgLrmESM01C",
        "nu2LJtAab6Mg",
        "o2xuZ3Nqsghc",
        "IPesNKpLsbo9",
        "tU9ZcS1o5F1L"
      ]
    },
    "kernelspec": {
      "name": "python3",
      "display_name": "Python 3"
    },
    "language_info": {
      "name": "python"
    }
  },
  "cells": [
    {
      "cell_type": "markdown",
      "source": [
        "LODES 7.5 https://lehd.ces.census.gov/data/\n",
        "\n",
        "Census Block Shapefile https://www2.census.gov/geo/tiger/TIGER2010BLKPOPHU\n",
        "\n",
        "NYC Metropolitan Scope and Shapefile https://metroexplorer.planning.nyc.gov/about\n",
        "\n"
      ],
      "metadata": {
        "id": "wGIlw_j-42Gh"
      }
    },
    {
      "cell_type": "code",
      "source": [
        "from google.colab import drive\n",
        "drive.mount('/content/drive')"
      ],
      "metadata": {
        "colab": {
          "base_uri": "https://localhost:8080/"
        },
        "id": "NA-5Lx251tGb",
        "outputId": "ac3865d7-11c6-4e00-efb3-eccb3da783ee"
      },
      "execution_count": null,
      "outputs": [
        {
          "output_type": "stream",
          "name": "stdout",
          "text": [
            "Mounted at /content/drive\n"
          ]
        }
      ]
    },
    {
      "cell_type": "markdown",
      "source": [
        "#### Libraries"
      ],
      "metadata": {
        "id": "GoM7jKHPZK6T"
      }
    },
    {
      "cell_type": "code",
      "source": [
        "from IPython.core.display import clear_output\n",
        "\n",
        "import pandas as pd\n",
        "pd.options.display.max_columns = 100\n",
        "import numpy as np\n",
        "import re\n",
        "import os\n",
        "from glob import glob\n",
        "\n",
        "from tqdm import tqdm\n",
        "tqdm.pandas()\n",
        "\n",
        "## GeoPandas\n",
        "from IPython.core.display import clear_output\n",
        "!pip install geopandas\n",
        "!pip install -U rtree folium mapclassify matplotlib seaborn\n",
        "clear_output()\n",
        "import geopandas as gpd\n",
        "\n",
        "\n",
        "def flatten_list(l):\n",
        "  return [item for sublist in l for item in sublist]\n",
        "\n",
        "def standardize_column_names(df, custom_mapping = None):\n",
        "  if custom_mapping is None:\n",
        "    df.columns = [col.lower().replace(' ','_') for col in df.columns]\n",
        "  else:\n",
        "    df.columns = [custom_mapping[col] for col in df.columns]\n",
        "  return df\n",
        "\n",
        "def safe_log(m):\n",
        "  # Reference: https://stackoverflow.com/a/52209380\n",
        "  m = np.array(m, dtype=float)\n",
        "  return np.log(m, out=np.zeros_like(m), where=(m!=0))\n",
        "\n",
        "!pip install osmnx\n",
        "clear_output()\n",
        "import osmnx as ox\n",
        "\n",
        "# !pip install folderstats -q\n",
        "# import folderstats\n",
        "# !pip install humanfriendly -q\n",
        "# from humanfriendly import format_size\n",
        "# def get_folderstats(root_directory_path):\n",
        "#   folderstats_df = folderstats.folderstats(root_directory_path, ignore_hidden=True)\n",
        "#   folderstats_df['readable_size'] = folderstats_df['size'].apply(lambda x: format_size(x))\n",
        "#   return folderstats_df"
      ],
      "metadata": {
        "id": "C1_UvToS1R8U"
      },
      "execution_count": null,
      "outputs": []
    },
    {
      "cell_type": "markdown",
      "source": [
        "#### PyDeck"
      ],
      "metadata": {
        "id": "OoiJJrlC65wT"
      }
    },
    {
      "cell_type": "code",
      "source": [
        "## PyDeck\n",
        "from google.colab import output\n",
        "output.enable_custom_widget_manager()\n",
        "# output.disable_custom_widget_manager()\n",
        "!pip install pydeck\n",
        "clear_output()\n",
        "import pydeck as pdk\n",
        "\n",
        "from pydeck.types import String as pdk_string\n",
        "def create_pdk_text_layer(data, text, position = 'coordinates', size = 12, color = [0,0,0], angle = 0, text_anchor = 'middle', alignment_baseline = 'center', pickable = True):\n",
        "  return pdk.Layer(\n",
        "      'TextLayer',\n",
        "      data,\n",
        "      get_text = text,\n",
        "      get_position = position,\n",
        "      # Text styling and positioning\n",
        "      get_size = size,\n",
        "      get_color = color,\n",
        "      get_angle = angle,\n",
        "      get_text_anchor = pdk_string(text_anchor),\n",
        "      get_alignment_baseline = pdk_string(alignment_baseline),\n",
        "      # Interactivity\n",
        "      pickable = pickable\n",
        "  )\n",
        "\n",
        "def create_pdk_polygon_layer(data, polygon, filled = True, fill_color = [255, 255, 255], opacity = 0.1, stroked = False, line_color = [255, 255, 255], line_width = 1, extruded = False, elevation = 0, wireframe = False, auto_highlight = True, pickable = True):\n",
        "  return pdk.Layer(\n",
        "      'PolygonLayer',\n",
        "      data,\n",
        "      get_polygon = polygon,\n",
        "      # Fill\n",
        "      filled = filled,\n",
        "      get_fill_color = fill_color,\n",
        "      opacity = opacity,\n",
        "      # Border\n",
        "      stroked = stroked,\n",
        "      get_line_color = line_color,\n",
        "      get_line_width = line_width,\n",
        "      # Height\n",
        "      extruded = extruded,\n",
        "      get_elevation = elevation,\n",
        "      # Surface\n",
        "      wireframe = wireframe,\n",
        "      # Interactivity\n",
        "      auto_highlight = auto_highlight,\n",
        "      pickable = pickable,\n",
        "  )\n",
        "\n",
        "def create_pdk_column_layer(data, position, radius = 100, coverage = 1, filled = True, fill_color = [255, 255, 255], opacity = 0.1, stroked = False, line_color = [255, 255, 255], line_width = 1, extruded = True, elevation = 0, elevation_scale = 100, wireframe = False, auto_highlight = True, pickable = True):\n",
        "  return pdk.Layer(\n",
        "      'ColumnLayer',\n",
        "      data,\n",
        "      get_position = position,\n",
        "      # Column property\n",
        "      radius = radius,\n",
        "      coverage = coverage,\n",
        "      # Fill\n",
        "      filled = filled,\n",
        "      get_fill_color = fill_color,\n",
        "      opacity = opacity,\n",
        "      # Border\n",
        "      stroked = stroked,\n",
        "      get_line_color = line_color,\n",
        "      get_line_width = line_width,\n",
        "      # Height\n",
        "      extruded = extruded,\n",
        "      get_elevation = elevation,\n",
        "      elevation_scale = elevation_scale,\n",
        "      # Surface\n",
        "      wireframe = wireframe,\n",
        "      # Interactivity\n",
        "      auto_highlight = auto_highlight,\n",
        "      pickable = pickable,\n",
        "  )\n",
        "\n",
        "def create_pdk_arc_layer(data, source_position, target_position, width = 1, height = 1, tilt = 0, great_circle = False, source_color = [255, 0, 0, 40], target_color = [0, 255, 0, 40], auto_highlight = True, pickable = True):\n",
        "  return pdk.Layer(\n",
        "      'ArcLayer',\n",
        "      data,\n",
        "      get_source_position = source_position,\n",
        "      get_target_position = target_position,\n",
        "      # Arc property\n",
        "      get_width = width,\n",
        "      get_height = height,\n",
        "      get_tilt = tilt,\n",
        "      great_circle = great_circle,\n",
        "      # Fill\n",
        "      get_source_color = source_color,\n",
        "      get_target_color = target_color,\n",
        "      # Interactivity\n",
        "      auto_highlight = auto_highlight,\n",
        "      pickable = pickable,\n",
        "  )\n",
        "\n",
        "def show_deck(layers, view, tooltip = True, iframe_height = 500, html_filepath = '/content/temp.html'):\n",
        "  r = pdk.Deck( layers, initial_view_state=view, map_style=pdk.map_styles.DARK, tooltip = tooltip) # tooltip={'html': '<br>'.join(['<b>'+c+':</b> {'+c+'}' for c in tooltip_columns])}\n",
        "  _ = r.to_html(html_filepath, iframe_height = iframe_height)"
      ],
      "metadata": {
        "id": "DtVbJGxm64tP"
      },
      "execution_count": null,
      "outputs": []
    },
    {
      "cell_type": "code",
      "source": [
        "def get_color_mapping(series, cmap='plasma', return_hex = False):\n",
        "  gradient_colors = ox.plot.get_colors(n=max(series)+1, cmap=cmap, start=0, return_hex=return_hex)\n",
        "  if not return_hex:\n",
        "    gradient_colors = [(np.array(color)[:3] * 255).round().astype(np.uint8).tolist() for color in gradient_colors]\n",
        "  color_mapping = dict(zip(sorted(set(series)), gradient_colors))\n",
        "  return color_mapping\n",
        "\n",
        "# [(v, 'rgb('+','.join(map(str,color))+')') for v,color in speed_color_scale] # for plotly\n",
        "\n",
        "def add_color_column(df, field, color_column_name):\n",
        "  color_mapping = get_color_mapping(df[field])\n",
        "  df[color_column_name] = df[field].map(color_mapping)\n",
        "  return df\n",
        "\n",
        "def log_round_clip_and_color(df, field):\n",
        "  df[field+'_log'] = safe_log(df[field])\n",
        "  df[field+'_log_rounded'] = df[field+'_log'].round(0).astype(int)\n",
        "  print(df[field+'_log_rounded'].value_counts().sort_index())\n",
        "  lower_value = input('lower value? ')\n",
        "  upper_value = input('upper value? ')\n",
        "  clear_output()\n",
        "  df[field+'_log_rounded_clipped'] = df[field+'_log_rounded'].clip(lower=int(lower_value),upper=int(upper_value))\n",
        "  df = add_color_column(df, field+'_log_rounded_clipped', field+'_color')\n",
        "  return df"
      ],
      "metadata": {
        "id": "2COnlKOuYYui"
      },
      "execution_count": null,
      "outputs": []
    },
    {
      "cell_type": "markdown",
      "source": [
        "## Get LODES 7.5 Data"
      ],
      "metadata": {
        "id": "9oDd98yiNIMw"
      }
    },
    {
      "cell_type": "code",
      "source": [
        "# !wget -e robots=off --recursive --no-parent https://lehd.ces.census.gov/data/lodes/LODES7/ny/\n",
        "# !wget -e robots=off --recursive --no-parent https://lehd.ces.census.gov/data/lodes/LODES7/nj/\n",
        "# !wget -e robots=off --recursive --no-parent https://lehd.ces.census.gov/data/lodes/LODES7/ct/\n",
        "# !mv /content/lehd.ces.census.gov/data/lodes/LODES7 /content/drive/MyDrive/nyc_data/demand/lodes/raw\n",
        "# clear_output()\n",
        "\n",
        "# df = get_folderstats('/content/drive/MyDrive/nyc_data/demand/lodes/raw/LODES7')\n",
        "# for p in df.loc[df['name'] == 'index','path'].tolist():\n",
        "#   os.remove(p)\n",
        "# df = get_folderstats('/content/drive/MyDrive/nyc_data/demand/lodes/raw/LODES7')\n",
        "# df = df.sort_values('id').reset_index(drop=True)"
      ],
      "metadata": {
        "id": "O8QsmdS_AMKG"
      },
      "execution_count": null,
      "outputs": []
    },
    {
      "cell_type": "markdown",
      "source": [
        "## Get Census Block Shapefile"
      ],
      "metadata": {
        "id": "QPgLrmESM01C"
      }
    },
    {
      "cell_type": "code",
      "source": [
        "# !wget -e robots=off --recursive --no-parent https://www2.census.gov/geo/tiger/TIGER2010BLKPOPHU/tabblock2010_09_pophu.zip\n",
        "# !wget -e robots=off --recursive --no-parent https://www2.census.gov/geo/tiger/TIGER2010BLKPOPHU/tabblock2010_34_pophu.zip\n",
        "# !wget -e robots=off --recursive --no-parent https://www2.census.gov/geo/tiger/TIGER2010BLKPOPHU/tabblock2010_36_pophu.zip\n",
        "\n",
        "# gdf = gpd.GeoDataFrame()\n",
        "# for p in glob('/content/www2.census.gov/geo/tiger/TIGER2010BLKPOPHU/*'):\n",
        "#   gdf = gdf.append( gpd.read_file(p) , ignore_index = True)\n",
        "# gdf.to_file('/content/drive/MyDrive/nyc_data/demand/tristate_census_block_tiger_2010.geojson', driver='GeoJSON')\n",
        "# gdf.to_feather('/content/drive/MyDrive/nyc_data/demand/tristate_census_block_tiger_2010.feather')"
      ],
      "metadata": {
        "id": "OundUVqF7JVH"
      },
      "execution_count": null,
      "outputs": []
    },
    {
      "cell_type": "markdown",
      "source": [
        "## Define NYC Metro Region Scope"
      ],
      "metadata": {
        "id": "nu2LJtAab6Mg"
      }
    },
    {
      "cell_type": "code",
      "source": [
        "# nyc_metro_region_scope = gpd.read_file('/content/drive/MyDrive/nyc_data/demand/nyc_metro_region_explorer_census_tract_2010.geojson')\n",
        "\n",
        "# nyc_metro_region_scope['state_county_id'] = nyc_metro_region_scope['statefp'].apply(int)*1000 + nyc_metro_region_scope['countyfp'].apply(int)\n",
        "\n",
        "# nyc_metro_region_state_county_id_list = nyc_metro_region_scope['state_county_id'].unique().tolist()\n",
        "\n",
        "# print(len(nyc_metro_region_state_county_id_list))"
      ],
      "metadata": {
        "id": "7gjamOIaALnS"
      },
      "execution_count": null,
      "outputs": []
    },
    {
      "cell_type": "code",
      "source": [
        "# tristate_census_block = gpd.read_feather('/content/drive/MyDrive/nyc_data/demand/tristate_census_block_tiger_2010.feather')\n",
        "\n",
        "# tristate_census_block['state_county_id'] = tristate_census_block['STATEFP10'].apply(int)*1000 + tristate_census_block['COUNTYFP10'].apply(int)\n",
        "\n",
        "# nyc_metro_census_block = tristate_census_block[tristate_census_block['state_county_id'].isin(nyc_metro_region_state_county_id_list)].reset_index(drop=True)\n",
        "# nyc_metro_census_block = nyc_metro_census_block.explode().reset_index(drop=True).drop_duplicates(subset=['BLOCKID10'], keep='first')\n",
        "# nyc_metro_census_block.to_feather('/content/drive/MyDrive/nyc_data/demand/nyc_metro_census_block_tiger_2010.feather')\n",
        "\n",
        "# nyc_proper_census_block = nyc_metro_census_block[nyc_metro_census_block['nyc_city_proper']]\n",
        "# nyc_proper_census_block = nyc_proper_census_block.explode().reset_index(drop=True).drop_duplicates(subset=['BLOCKID10'], keep='first')\n",
        "\n",
        "# nyc_proper_census_block.to_feather('/content/drive/MyDrive/nyc_data/demand/nyc_proper_census_block_tiger_2010.feather')"
      ],
      "metadata": {
        "id": "7wltoXi3ALk2"
      },
      "execution_count": null,
      "outputs": []
    },
    {
      "cell_type": "markdown",
      "source": [
        "## Clean LODES for NYC Metro Region"
      ],
      "metadata": {
        "id": "lCTWmInD5DVe"
      }
    },
    {
      "cell_type": "markdown",
      "source": [
        "### Clean OD files"
      ],
      "metadata": {
        "id": "o2xuZ3Nqsghc"
      }
    },
    {
      "cell_type": "code",
      "source": [
        "# nyc_metro_census_block = gpd.read_feather('/content/drive/MyDrive/nyc_data/demand/nyc_metro_census_block_tiger_2010.feather')\n",
        "# nyc_metro_census_block_set = set(nyc_metro_census_block['BLOCKID10'].apply(int).tolist())\n",
        "\n",
        "# df = get_folderstats('/content/drive/MyDrive/nyc_data/demand/lodes/raw/LODES7')\n",
        "\n",
        "# for year in [2010, 2015, 2019]:\n",
        "\n",
        "#   od_main_df = pd.DataFrame()\n",
        "#   for p in df.loc[df.name.str.contains('od_main_JT00_'+str(year)), 'path'].tolist():\n",
        "#     od_main_df = od_main_df.append(pd.read_csv(p), ignore_index = True)\n",
        "\n",
        "#   od_aux_df = pd.DataFrame()\n",
        "#   for p in df.loc[df.name.str.contains('od_aux_JT00_'+str(year)), 'path'].tolist():\n",
        "#     od_aux_df = od_aux_df.append(pd.read_csv(p), ignore_index = True)\n",
        "\n",
        "#   od_df = od_main_df.append(od_aux_df, ignore_index=True).drop('createdate', axis=1)\n",
        "\n",
        "#   od_df = od_df[(od_df['w_geocode'].isin(nyc_metro_census_block_set)) & (od_df['h_geocode'].isin(nyc_metro_census_block_set))].reset_index(drop=True)\n",
        "\n",
        "#   od_df.to_csv('/content/drive/MyDrive/nyc_data/demand/nyc_metro_lodes_'+str(year)+'.csv', index=False)\n",
        "\n",
        "#   del od_df"
      ],
      "metadata": {
        "id": "MRsBvtKM6A1a"
      },
      "execution_count": null,
      "outputs": []
    },
    {
      "cell_type": "markdown",
      "source": [
        "### Clean WAC and RAC files"
      ],
      "metadata": {
        "id": "IPesNKpLsbo9"
      }
    },
    {
      "cell_type": "code",
      "source": [
        "nyc_metro_census_block = gpd.read_feather('/content/drive/MyDrive/nyc_data/demand/nyc_metro_census_block_tiger_2010.feather')\n",
        "nyc_metro_census_block_set = set(nyc_metro_census_block['BLOCKID10'].apply(int).tolist())\n",
        "\n",
        "nyc_proper_census_block = gpd.read_feather('/content/drive/MyDrive/nyc_data/demand/nyc_proper_census_block_tiger_2010.feather')\n",
        "nyc_proper_census_block_set = set(nyc_proper_census_block['BLOCKID10'].apply(int).tolist())"
      ],
      "metadata": {
        "id": "5YQJPVsv-0dO"
      },
      "execution_count": null,
      "outputs": []
    },
    {
      "cell_type": "code",
      "source": [
        "wac_and_rac_codebook = pd.read_csv('/content/drive/MyDrive/nyc_data/demand/lodes/WAC_and_RAC_codebook.csv')\n",
        "code_to_descriptive_name_mapping = wac_and_rac_codebook.set_index('variable')['abbr_desc'].to_dict()"
      ],
      "metadata": {
        "id": "0aMmS-DHAfvw"
      },
      "execution_count": null,
      "outputs": []
    },
    {
      "cell_type": "code",
      "source": [
        "raw_lodes_data_foler = '/content/drive/MyDrive/nyc_data/demand/lodes/raw/LODES7'"
      ],
      "metadata": {
        "id": "KzBf1XL0Lvlx"
      },
      "execution_count": null,
      "outputs": []
    },
    {
      "cell_type": "code",
      "source": [
        "def aggregate_lodes_area_characteristics_files(\n",
        "    file_type,  \n",
        "    job_type, \n",
        "    file_year,\n",
        "    state_codes,\n",
        "    segment_codes, \n",
        "    columns_to_drop, \n",
        "    additional_columns_to_drop):\n",
        "\n",
        "  block_id_column = 'w_geocode' if file_type == 'wac' else 'h_geocode'\n",
        "\n",
        "  all_df = pd.DataFrame()\n",
        "  for state_code in state_codes:\n",
        "    state_df = None\n",
        "    for segment_code in segment_codes:  \n",
        "      segment_df = pd.read_csv(raw_lodes_data_foler+'/'+state_code+'/'+file_type+'/'+state_code+'_'+file_type+'_'+segment_code+'_'+job_type+'_'+str(file_year)+'.csv.gz').drop(additional_columns_to_drop+columns_to_drop, axis=1)\n",
        "      segment_df = segment_df[segment_df[block_id_column].isin(nyc_metro_census_block_set)].reset_index(drop=True)\n",
        "      segment_df = standardize_column_names(segment_df, code_to_descriptive_name_mapping)\n",
        "      if segment_code != 'S000':\n",
        "        segment_df.columns = [block_id_column]+(code_to_descriptive_name_mapping[segment_code.replace('S','C')]+'__'+segment_df.columns[1:]).tolist()\n",
        "      if state_df is None:\n",
        "        state_df = segment_df\n",
        "      else:\n",
        "        state_df = pd.merge(state_df, segment_df, on=block_id_column, how='outer')\n",
        "    state_df = state_df.fillna(0).astype(int)\n",
        "    all_df = all_df.append(state_df, ignore_index = True)\n",
        "  return all_df"
      ],
      "metadata": {
        "id": "GFGrYUT2wF2h"
      },
      "execution_count": null,
      "outputs": []
    },
    {
      "cell_type": "code",
      "source": [
        "### nyc_metro_wac_all_jobs_2019 ###\n",
        "\n",
        "file_type = 'wac'\n",
        "job_type = 'JT00'\n",
        "file_year = 2019\n",
        "state_codes = ['ct','nj','ny']\n",
        "columns_to_drop = ['CFA01', 'CFA02', 'CFA03', 'CFA04', 'CFA05', 'CFS01', 'CFS02', 'CFS03', 'CFS04', 'CFS05', 'createdate']\n",
        "\n",
        "#########################################################################################################\n",
        "\n",
        "segment_codes = ['S000']\n",
        "additional_columns_to_drop = []\n",
        "\n",
        "all_segment = aggregate_lodes_area_characteristics_files(file_type,  job_type, file_year, state_codes, segment_codes, columns_to_drop, additional_columns_to_drop)\n",
        "\n",
        "#########################################################################################################\n",
        "\n",
        "segment_codes = ['SE01','SE02','SE03']\n",
        "additional_columns_to_drop = ['C000', 'CE01', 'CE02', 'CE03']\n",
        "\n",
        "by_earning_segment = aggregate_lodes_area_characteristics_files(file_type,  job_type, file_year, state_codes, segment_codes, columns_to_drop, additional_columns_to_drop)\n",
        "\n",
        "#########################################################################################################\n",
        "\n",
        "segment_codes = ['SA01','SA02','SA03']\n",
        "additional_columns_to_drop = ['C000', 'CA01', 'CA02', 'CA03']\n",
        "\n",
        "by_age_segment  = aggregate_lodes_area_characteristics_files(file_type,  job_type, file_year, state_codes, segment_codes, columns_to_drop, additional_columns_to_drop)\n",
        "\n",
        "#########################################################################################################\n",
        "\n",
        "geocode_column = all_segment.columns[0]\n",
        "all_segment = pd.merge(all_segment, by_earning_segment, on=geocode_column, how='outer')\n",
        "all_segment = pd.merge(all_segment, by_age_segment    , on=geocode_column, how='outer')\n",
        "all_segment.to_parquet('/content/drive/MyDrive/nyc_data/demand/nyc_metro_'+file_type+'_'+job_type+'_'+str(file_year)+'.parquet', index=False)\n",
        "all_segment[all_segment[geocode_column].isin(nyc_proper_census_block_set)].to_parquet('/content/drive/MyDrive/nyc_data/demand/nyc_city_proper_'+file_type+'_'+job_type+'_'+str(file_year)+'.parquet', index=False)"
      ],
      "metadata": {
        "id": "Q-lVJ1eNmQYq"
      },
      "execution_count": null,
      "outputs": []
    },
    {
      "cell_type": "code",
      "source": [
        "### nyc_metro_wac_all_private_jobs_2019 ###\n",
        "\n",
        "file_type = 'wac'\n",
        "job_type = 'JT02'\n",
        "file_year = 2019\n",
        "state_codes = ['ct','nj','ny']\n",
        "columns_to_drop = ['createdate']\n",
        "\n",
        "#########################################################################################################\n",
        "\n",
        "segment_codes = ['S000']\n",
        "additional_columns_to_drop = []\n",
        "\n",
        "all_segment = aggregate_lodes_area_characteristics_files(file_type,  job_type, file_year, state_codes, segment_codes, columns_to_drop, additional_columns_to_drop)\n",
        "\n",
        "#########################################################################################################\n",
        "\n",
        "segment_codes = ['SE01','SE02','SE03']\n",
        "additional_columns_to_drop = ['C000', 'CE01', 'CE02', 'CE03']\n",
        "\n",
        "by_earning_segment = aggregate_lodes_area_characteristics_files(file_type,  job_type, file_year, state_codes, segment_codes, columns_to_drop, additional_columns_to_drop)\n",
        "\n",
        "#########################################################################################################\n",
        "\n",
        "segment_codes = ['SA01','SA02','SA03']\n",
        "additional_columns_to_drop = ['C000', 'CA01', 'CA02', 'CA03']\n",
        "\n",
        "by_age_segment  = aggregate_lodes_area_characteristics_files(file_type,  job_type, file_year, state_codes, segment_codes, columns_to_drop, additional_columns_to_drop)\n",
        "\n",
        "#########################################################################################################\n",
        "\n",
        "geocode_column = all_segment.columns[0]\n",
        "all_segment = pd.merge(all_segment, by_earning_segment, on=geocode_column, how='outer')\n",
        "all_segment = pd.merge(all_segment, by_age_segment    , on=geocode_column, how='outer')\n",
        "all_segment.to_parquet('/content/drive/MyDrive/nyc_data/demand/nyc_metro_'+file_type+'_'+job_type+'_'+str(file_year)+'.parquet', index=False)\n",
        "all_segment[all_segment[geocode_column].isin(nyc_proper_census_block_set)].to_parquet('/content/drive/MyDrive/nyc_data/demand/nyc_city_proper_'+file_type+'_'+job_type+'_'+str(file_year)+'.parquet', index=False)"
      ],
      "metadata": {
        "id": "cB3eL6io_lZx"
      },
      "execution_count": null,
      "outputs": []
    },
    {
      "cell_type": "code",
      "source": [
        "### nyc_metro_wac_all_federal_jobs_2019 ###\n",
        "\n",
        "file_type = 'wac'\n",
        "job_type = 'JT04'\n",
        "file_year = 2019\n",
        "state_codes = ['ct','nj','ny']\n",
        "columns_to_drop = ['createdate']\n",
        "\n",
        "#########################################################################################################\n",
        "\n",
        "segment_codes = ['S000']\n",
        "additional_columns_to_drop = []\n",
        "\n",
        "all_segment = aggregate_lodes_area_characteristics_files(file_type,  job_type, file_year, state_codes, segment_codes, columns_to_drop, additional_columns_to_drop)\n",
        "\n",
        "#########################################################################################################\n",
        "\n",
        "segment_codes = ['SE01','SE02','SE03']\n",
        "additional_columns_to_drop = ['C000', 'CE01', 'CE02', 'CE03']\n",
        "\n",
        "by_earning_segment = aggregate_lodes_area_characteristics_files(file_type,  job_type, file_year, state_codes, segment_codes, columns_to_drop, additional_columns_to_drop)\n",
        "\n",
        "#########################################################################################################\n",
        "\n",
        "segment_codes = ['SA01','SA02','SA03']\n",
        "additional_columns_to_drop = ['C000', 'CA01', 'CA02', 'CA03']\n",
        "\n",
        "by_age_segment  = aggregate_lodes_area_characteristics_files(file_type,  job_type, file_year, state_codes, segment_codes, columns_to_drop, additional_columns_to_drop)\n",
        "\n",
        "#########################################################################################################\n",
        "\n",
        "geocode_column = all_segment.columns[0]\n",
        "all_segment = pd.merge(all_segment, by_earning_segment, on=geocode_column, how='outer')\n",
        "all_segment = pd.merge(all_segment, by_age_segment    , on=geocode_column, how='outer')\n",
        "all_segment.to_parquet('/content/drive/MyDrive/nyc_data/demand/nyc_metro_'+file_type+'_'+job_type+'_'+str(file_year)+'.parquet', index=False)\n",
        "all_segment[all_segment[geocode_column].isin(nyc_proper_census_block_set)].to_parquet('/content/drive/MyDrive/nyc_data/demand/nyc_city_proper_'+file_type+'_'+job_type+'_'+str(file_year)+'.parquet', index=False)"
      ],
      "metadata": {
        "id": "yUM1z9h51Md4"
      },
      "execution_count": null,
      "outputs": []
    },
    {
      "cell_type": "code",
      "source": [
        "### nyc_metro_rac_all_jobs_2019 ###\n",
        "\n",
        "file_type = 'rac'\n",
        "job_type = 'JT00'\n",
        "file_year = 2019\n",
        "state_codes = ['ct','nj','ny']\n",
        "columns_to_drop = ['createdate']\n",
        "\n",
        "#########################################################################################################\n",
        "\n",
        "segment_codes = ['S000']\n",
        "additional_columns_to_drop = []\n",
        "\n",
        "all_segment = aggregate_lodes_area_characteristics_files(file_type,  job_type, file_year, state_codes, segment_codes, columns_to_drop, additional_columns_to_drop)\n",
        "\n",
        "#########################################################################################################\n",
        "\n",
        "segment_codes = ['SE01','SE02','SE03']\n",
        "additional_columns_to_drop = ['C000', 'CE01', 'CE02', 'CE03']\n",
        "\n",
        "by_earning_segment = aggregate_lodes_area_characteristics_files(file_type,  job_type, file_year, state_codes, segment_codes, columns_to_drop, additional_columns_to_drop)\n",
        "\n",
        "#########################################################################################################\n",
        "\n",
        "segment_codes = ['SA01','SA02','SA03']\n",
        "additional_columns_to_drop = ['C000', 'CA01', 'CA02', 'CA03']\n",
        "\n",
        "by_age_segment  = aggregate_lodes_area_characteristics_files(file_type,  job_type, file_year, state_codes, segment_codes, columns_to_drop, additional_columns_to_drop)\n",
        "\n",
        "#########################################################################################################\n",
        "\n",
        "geocode_column = all_segment.columns[0]\n",
        "all_segment = pd.merge(all_segment, by_earning_segment, on=geocode_column, how='outer')\n",
        "all_segment = pd.merge(all_segment, by_age_segment    , on=geocode_column, how='outer')\n",
        "all_segment.to_parquet('/content/drive/MyDrive/nyc_data/demand/nyc_metro_'+file_type+'_'+job_type+'_'+str(file_year)+'.parquet', index=False)\n",
        "all_segment[all_segment[geocode_column].isin(nyc_proper_census_block_set)].to_parquet('/content/drive/MyDrive/nyc_data/demand/nyc_city_proper_'+file_type+'_'+job_type+'_'+str(file_year)+'.parquet', index=False)"
      ],
      "metadata": {
        "id": "K6LfNWwrlBb2"
      },
      "execution_count": null,
      "outputs": []
    },
    {
      "cell_type": "code",
      "source": [
        "### nyc_metro_rac_all_private_jobs_2019 ###\n",
        "\n",
        "file_type = 'rac'\n",
        "job_type = 'JT02'\n",
        "file_year = 2019\n",
        "state_codes = ['ct','nj','ny']\n",
        "columns_to_drop = ['createdate']\n",
        "\n",
        "#########################################################################################################\n",
        "\n",
        "segment_codes = ['S000']\n",
        "additional_columns_to_drop = []\n",
        "\n",
        "all_segment = aggregate_lodes_area_characteristics_files(file_type,  job_type, file_year, state_codes, segment_codes, columns_to_drop, additional_columns_to_drop)\n",
        "\n",
        "#########################################################################################################\n",
        "\n",
        "segment_codes = ['SE01','SE02','SE03']\n",
        "additional_columns_to_drop = ['C000', 'CE01', 'CE02', 'CE03']\n",
        "\n",
        "by_earning_segment = aggregate_lodes_area_characteristics_files(file_type,  job_type, file_year, state_codes, segment_codes, columns_to_drop, additional_columns_to_drop)\n",
        "\n",
        "#########################################################################################################\n",
        "\n",
        "segment_codes = ['SA01','SA02','SA03']\n",
        "additional_columns_to_drop = ['C000', 'CA01', 'CA02', 'CA03']\n",
        "\n",
        "by_age_segment  = aggregate_lodes_area_characteristics_files(file_type,  job_type, file_year, state_codes, segment_codes, columns_to_drop, additional_columns_to_drop)\n",
        "\n",
        "#########################################################################################################\n",
        "\n",
        "geocode_column = all_segment.columns[0]\n",
        "all_segment = pd.merge(all_segment, by_earning_segment, on=geocode_column, how='outer')\n",
        "all_segment = pd.merge(all_segment, by_age_segment    , on=geocode_column, how='outer')\n",
        "all_segment.to_parquet('/content/drive/MyDrive/nyc_data/demand/nyc_metro_'+file_type+'_'+job_type+'_'+str(file_year)+'.parquet', index=False)\n",
        "all_segment[all_segment[geocode_column].isin(nyc_proper_census_block_set)].to_parquet('/content/drive/MyDrive/nyc_data/demand/nyc_city_proper_'+file_type+'_'+job_type+'_'+str(file_year)+'.parquet', index=False)"
      ],
      "metadata": {
        "id": "BEEVJ47OiRI0"
      },
      "execution_count": null,
      "outputs": []
    },
    {
      "cell_type": "code",
      "source": [
        "### nyc_metro_rac_all_federal_jobs_2019 ###\n",
        "\n",
        "file_type = 'rac'\n",
        "job_type = 'JT04'\n",
        "file_year = 2019\n",
        "state_codes = ['ct','nj','ny']\n",
        "columns_to_drop = ['createdate']\n",
        "\n",
        "#########################################################################################################\n",
        "\n",
        "segment_codes = ['S000']\n",
        "additional_columns_to_drop = []\n",
        "\n",
        "all_segment = aggregate_lodes_area_characteristics_files(file_type,  job_type, file_year, state_codes, segment_codes, columns_to_drop, additional_columns_to_drop)\n",
        "\n",
        "#########################################################################################################\n",
        "\n",
        "segment_codes = ['SE01','SE02','SE03']\n",
        "additional_columns_to_drop = ['C000', 'CE01', 'CE02', 'CE03']\n",
        "\n",
        "by_earning_segment = aggregate_lodes_area_characteristics_files(file_type,  job_type, file_year, state_codes, segment_codes, columns_to_drop, additional_columns_to_drop)\n",
        "\n",
        "#########################################################################################################\n",
        "\n",
        "segment_codes = ['SA01','SA02','SA03']\n",
        "additional_columns_to_drop = ['C000', 'CA01', 'CA02', 'CA03']\n",
        "\n",
        "by_age_segment  = aggregate_lodes_area_characteristics_files(file_type,  job_type, file_year, state_codes, segment_codes, columns_to_drop, additional_columns_to_drop)\n",
        "\n",
        "#########################################################################################################\n",
        "\n",
        "geocode_column = all_segment.columns[0]\n",
        "all_segment = pd.merge(all_segment, by_earning_segment, on=geocode_column, how='outer')\n",
        "all_segment = pd.merge(all_segment, by_age_segment    , on=geocode_column, how='outer')\n",
        "all_segment.to_parquet('/content/drive/MyDrive/nyc_data/demand/nyc_metro_'+file_type+'_'+job_type+'_'+str(file_year)+'.parquet', index=False)\n",
        "all_segment[all_segment[geocode_column].isin(nyc_proper_census_block_set)].to_parquet('/content/drive/MyDrive/nyc_data/demand/nyc_city_proper_'+file_type+'_'+job_type+'_'+str(file_year)+'.parquet', index=False)"
      ],
      "metadata": {
        "id": "lHGgzgGC1UJa"
      },
      "execution_count": null,
      "outputs": []
    },
    {
      "cell_type": "code",
      "source": [
        "# t = pd.merge( nyc_proper_wac_all_private_jobs.set_index('w_geocode')['num_of_jobs'].rename('private'), nyc_proper_wac_all_federal_jobs.set_index('w_geocode')['num_of_jobs'].rename('federal'), left_index=True, right_index=True, how='outer')\n",
        "# t = pd.merge( t, nyc_proper_wac_all_jobs.set_index('w_geocode')['num_of_jobs'].rename('all'), left_index=True, right_index=True, how='outer')\n",
        "# t = t.fillna(0)\n",
        "# t['private_prop'] = t['private']/t['all']\n",
        "# t['private_plus_federal'] = t['private'] + t['federal']\n",
        "# t['private_plus_federal_prop'] = t['private_plus_federal']/t['all']\n",
        "# t['private_prop'].hist(bins=50)\n",
        "# t['plus_prop'].hist(bins=50)"
      ],
      "metadata": {
        "id": "pvfpHdC43F__"
      },
      "execution_count": null,
      "outputs": []
    },
    {
      "cell_type": "markdown",
      "source": [
        "### Map WAC and RAC files"
      ],
      "metadata": {
        "id": "tU9ZcS1o5F1L"
      }
    },
    {
      "cell_type": "code",
      "source": [
        "geospatial_scope = 'proper' \n",
        "job_type = 'JT02'\n",
        "file_year = 2019\n",
        "wac_df = pd.read_parquet('/content/drive/MyDrive/nyc_data/demand/nyc_'+geospatial_scope+'_wac_'+job_type+'_'+str(file_year)+'.parquet')\n",
        "rac_df = pd.read_parquet('/content/drive/MyDrive/nyc_data/demand/nyc_'+geospatial_scope+'_rac_'+job_type+'_'+str(file_year)+'.parquet')\n",
        "\n",
        "# block_gis = gpd.read_feather('/content/drive/MyDrive/nyc_data/demand/nyc_'+geospatial_scope+'_census_block_tiger_2010.feather')\n",
        "# block_gis = block_gis[['BLOCKID10','geometry']]\n",
        "# block_gis['BLOCKID10'] = block_gis['BLOCKID10'].astype(int)\n",
        "# block_gis = add_centroid_column(block_gis, geom_column = 'geometry', proj2 = 'epsg:2263')\n",
        "# block_gis['census_block_area_size'] = block_gis['geometry'].to_crs('epsg:2263').area/1e6   # area size in km^2\n",
        "# block_gis['polygon'] = block_gis['geometry'].exterior.apply(lambda pt: (np.array(pt.xy).T).tolist())\n",
        "# block_gis.to_feather('/content/drive/MyDrive/nyc_data/demand/nyc_'+geospatial_scope+'_census_block_tiger_2010_augmented.feather')\n",
        "\n",
        "block_gis = gpd.read_feather('/content/drive/MyDrive/nyc_data/demand/nyc_'+geospatial_scope+'_census_block_tiger_2010_augmented.feather')"
      ],
      "metadata": {
        "id": "-pHnCI7k-Uza"
      },
      "execution_count": null,
      "outputs": []
    },
    {
      "cell_type": "code",
      "source": [
        "# wac = block_gis.merge( wac_df, left_on='BLOCKID10', right_on='w_geocode')\n",
        "# view = pdk.data_utils.compute_view(flatten_list(wac['polygon'].tolist()))"
      ],
      "metadata": {
        "id": "slreqXpQuQLN"
      },
      "execution_count": null,
      "outputs": []
    },
    {
      "cell_type": "code",
      "source": [
        "# wac['age_you_prop'] = (wac['age_you']/wac['num_of_jobs']).round(2)\n",
        "# wac['age_you_prop_multiply_10_rounded'] = (wac['age_you_prop']*10).round(0).astype(int)\n",
        "# wac = add_color_column(wac, 'age_you_prop_multiply_10_rounded', 'age_you_prop_color')\n",
        "\n",
        "# youth_proportion_layer = create_pdk_polygon_layer(wac[['geometry','age_you_prop_color','age_you','age_you_prop','BLOCKID10']], 'geometry.coordinates', fill_color='age_you_prop_color', opacity = 0.8)"
      ],
      "metadata": {
        "id": "q671bBbEUW2U"
      },
      "execution_count": null,
      "outputs": []
    },
    {
      "cell_type": "code",
      "source": [
        "# wac['age_you_density'] = (wac['age_you']/wac['census_block_area_size']).round(0).astype(int)\n",
        "# wac = log_round_clip_and_color(wac, 'age_you_density')\n",
        "\n",
        "# youth_density_layer = create_pdk_polygon_layer(wac[['geometry','age_you_density_color','age_you','age_you_prop','BLOCKID10']], 'geometry.coordinates', fill_color='age_you_density_color', opacity = 0.8)"
      ],
      "metadata": {
        "id": "R2OUvU6x7p10"
      },
      "execution_count": null,
      "outputs": []
    },
    {
      "cell_type": "code",
      "source": [
        "# wac['sec_finance_density'] = (wac['sec_finance']/wac['census_block_area_size']).round(0).astype(int)\n",
        "# wac = log_round_clip_and_color(wac, 'sec_finance_density')\n",
        "# wac['sec_finance_density_log_rounded_clipped_multiply_by_100'] = wac['sec_finance_density_log_rounded_clipped']*100\n",
        "# finance_worker_density_layer = create_pdk_polygon_layer(wac[['geometry','sec_finance_density_color','sec_finance_density_log_rounded_clipped_multiply_by_100','sec_finance','BLOCKID10']], 'geometry.coordinates', fill_color='sec_finance_density_color', opacity = 0.8, extruded = True, elevation = 'sec_finance_density_log_rounded_clipped_multiply_by_100')\n",
        "\n",
        "# show_deck([finance_worker_density_layer], view, tooltip={\"html\": \"<b>Block ID:</b> {BLOCKID10}<br><b>People working in finance:</b> {sec_finance}\"})\n",
        "# !mv /content/temp.html /content/drive/MyDrive/nyc_data/demand/city_proper_finance_worker_density.html"
      ],
      "metadata": {
        "id": "xDNix0nQ5hlQ"
      },
      "execution_count": null,
      "outputs": []
    },
    {
      "cell_type": "code",
      "source": [
        "rac = block_gis.merge( rac_df, left_on='BLOCKID10', right_on='h_geocode')\n",
        "view = pdk.data_utils.compute_view(flatten_list(rac['polygon'].tolist()))"
      ],
      "metadata": {
        "id": "a1xrsC6nXejY"
      },
      "execution_count": null,
      "outputs": []
    },
    {
      "cell_type": "code",
      "source": [
        "var = 'sec_finance'\n",
        "rac[var+'_prop'] = (rac[var]/rac['num_of_jobs']).round(2)\n",
        "rac[var+'_prop_multiply_10_rounded'] = (rac[var+'_prop']*10).round(0).astype(int)\n",
        "rac = add_color_column(rac, var+'_prop_multiply_10_rounded', var+'_prop_color')\n",
        "var_resident_prop_layer = create_pdk_polygon_layer(rac[['geometry',var+'_prop_color',var,'BLOCKID10']], 'geometry.coordinates', fill_color=var+'_prop_color', opacity = 0.8, extruded = False)\n",
        "show_deck([var_resident_prop_layer], view, tooltip={\"html\": \"<b>Block ID:</b> {BLOCKID10}<br><b>Residents with this feature:</b> {\"+var+\"}\"})\n",
        "os.system('mv /content/temp.html /content/drive/MyDrive/nyc_data/demand/city_'+geospatial_scope+'_'+var+'_resident_block.html')"
      ],
      "metadata": {
        "id": "chkDoA0FalJu"
      },
      "execution_count": null,
      "outputs": []
    },
    {
      "cell_type": "code",
      "source": [
        "var = 'sec_professional'\n",
        "rac[var+'_prop'] = (rac[var]/rac['num_of_jobs']).round(2)\n",
        "rac[var+'_prop_multiply_10_rounded'] = (rac[var+'_prop']*10).round(0).astype(int)\n",
        "rac = add_color_column(rac, var+'_prop_multiply_10_rounded', var+'_prop_color')\n",
        "var_resident_prop_layer = create_pdk_polygon_layer(rac[['geometry',var+'_prop_color',var,'BLOCKID10']], 'geometry.coordinates', fill_color=var+'_prop_color', opacity = 0.8, extruded = False)\n",
        "show_deck([var_resident_prop_layer], view, tooltip={\"html\": \"<b>Block ID:</b> {BLOCKID10}<br><b>Residents with this feature:</b> {\"+var+\"}\"})\n",
        "os.system('mv /content/temp.html /content/drive/MyDrive/nyc_data/demand/city_'+geospatial_scope+'_'+var+'_resident_block.html')"
      ],
      "metadata": {
        "id": "rsbwYdezEfB3"
      },
      "execution_count": null,
      "outputs": []
    },
    {
      "cell_type": "code",
      "source": [
        ""
      ],
      "metadata": {
        "id": "HCBYxvZ1I-sM"
      },
      "execution_count": null,
      "outputs": []
    }
  ]
}